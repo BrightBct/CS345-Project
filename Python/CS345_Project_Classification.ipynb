{
  "nbformat": 4,
  "nbformat_minor": 0,
  "metadata": {
    "colab": {
      "name": "CS345 Project Classification.ipynb",
      "provenance": [],
      "collapsed_sections": [
        "9bqnRS2qhuNq",
        "8ubVtwnQiBuR",
        "ExfgNRzxFPeI",
        "znFjZSs4mMip",
        "2OeD8bODnzT2"
      ]
    },
    "kernelspec": {
      "name": "python3",
      "display_name": "Python 3"
    },
    "language_info": {
      "name": "python"
    }
  },
  "cells": [
    {
      "cell_type": "markdown",
      "metadata": {
        "id": "9bqnRS2qhuNq"
      },
      "source": [
        "# ขั้นตอนการ import ข้อมูล"
      ]
    },
    {
      "cell_type": "markdown",
      "metadata": {
        "id": "gnDu-DPPkhYe"
      },
      "source": [
        "ทำการ import numpy และ pandas ในการจัดการกับข้อมูลที่เป็น array และ dataframe\n",
        "\n",
        "และทำการ import warnings มาเพื่อทำการเสร็จ wanings ให้เป็น ignore (จะไม่แสดง warnings ต่าง ๆ)\n"
      ]
    },
    {
      "cell_type": "code",
      "metadata": {
        "id": "JmgXiLIDgfGT"
      },
      "source": [
        "import numpy as np\n",
        "import pandas as pd\n",
        "import warnings\n",
        "\n",
        "warnings.filterwarnings('ignore')"
      ],
      "execution_count": null,
      "outputs": []
    },
    {
      "cell_type": "markdown",
      "metadata": {
        "id": "v0J4WjvXnvrW"
      },
      "source": [
        "ทำการอ่านข้อมูล โดยข้อมูลจะเก็บไว้บน google drive จึงทำการหาข้อมูลผ่าน path บน google drive มีการกำหนดตัว separator เป็น semicolon เนื่องจากชุดข้อมูลมีการคั่นด้วยเครื่องหมายนี้ \n",
        "\n",
        "หากต้องการชุดข้อมูลเพื่อทดลอง สามารถเข้าไป download ได้ผ่านลิงก์ github ด้านล่างนี้\n",
        "\n",
        "htttps://"
      ]
    },
    {
      "cell_type": "code",
      "metadata": {
        "id": "SiExg8gbx6cS"
      },
      "source": [
        "train = pd.read_csv('/content/drive/MyDrive/CS/CS345/Dataset/airplane_classification_preprocess_train.csv', sep=';')\n",
        "test = pd.read_csv('/content/drive/MyDrive/CS/CS345/Dataset/airplane_classification_preprocess_test.csv', sep=';')"
      ],
      "execution_count": null,
      "outputs": []
    },
    {
      "cell_type": "markdown",
      "metadata": {
        "id": "NA2HK0pvlOjO"
      },
      "source": [
        "หลังจากอ่านข้อมูลเสร็จ ทำการ print ข้อมูลโดยใช้ฟังก์ชัน info() ในการดูข้อมูลพื้นฐานในชุดข้อมูล"
      ]
    },
    {
      "cell_type": "code",
      "metadata": {
        "colab": {
          "base_uri": "https://localhost:8080/"
        },
        "id": "oUHffJAjgQFs",
        "outputId": "ff2bf9b7-246a-46ff-cad9-6ba5af01012b"
      },
      "source": [
        "print(train.info())\n",
        "print()\n",
        "print(test.info())"
      ],
      "execution_count": null,
      "outputs": [
        {
          "output_type": "stream",
          "name": "stdout",
          "text": [
            "<class 'pandas.core.frame.DataFrame'>\n",
            "RangeIndex: 8000 entries, 0 to 7999\n",
            "Data columns (total 28 columns):\n",
            " #   Column                             Non-Null Count  Dtype  \n",
            "---  ------                             --------------  -----  \n",
            " 0   Gender = Female                    8000 non-null   float64\n",
            " 1   Gender = Male                      8000 non-null   float64\n",
            " 2   Customer Type = Loyal Customer     8000 non-null   float64\n",
            " 3   Customer Type = disloyal Customer  8000 non-null   float64\n",
            " 4   Type of Travel = Business travel   8000 non-null   float64\n",
            " 5   Type of Travel = Personal Travel   8000 non-null   float64\n",
            " 6   Class = Eco                        8000 non-null   float64\n",
            " 7   Class = Business                   8000 non-null   float64\n",
            " 8   Class = Eco Plus                   8000 non-null   float64\n",
            " 9   Age                                8000 non-null   float64\n",
            " 10  Flight Distance                    8000 non-null   float64\n",
            " 11  Inflight wifi service              8000 non-null   float64\n",
            " 12  Departure/Arrival time convenient  8000 non-null   float64\n",
            " 13  Ease of Online booking             8000 non-null   float64\n",
            " 14  Gate location                      8000 non-null   float64\n",
            " 15  Food and drink                     8000 non-null   float64\n",
            " 16  Online boarding                    8000 non-null   float64\n",
            " 17  Seat comfort                       8000 non-null   float64\n",
            " 18  Inflight entertainment             8000 non-null   float64\n",
            " 19  On-board service                   8000 non-null   float64\n",
            " 20  Leg room service                   8000 non-null   float64\n",
            " 21  Baggage handling                   8000 non-null   float64\n",
            " 22  Checkin service                    8000 non-null   float64\n",
            " 23  Inflight service                   8000 non-null   float64\n",
            " 24  Cleanliness                        8000 non-null   float64\n",
            " 25  Departure Delay in Minutes         8000 non-null   float64\n",
            " 26  Arrival Delay in Minutes           8000 non-null   float64\n",
            " 27  satisfaction                       8000 non-null   object \n",
            "dtypes: float64(27), object(1)\n",
            "memory usage: 1.7+ MB\n",
            "None\n",
            "\n",
            "<class 'pandas.core.frame.DataFrame'>\n",
            "RangeIndex: 2000 entries, 0 to 1999\n",
            "Data columns (total 28 columns):\n",
            " #   Column                             Non-Null Count  Dtype  \n",
            "---  ------                             --------------  -----  \n",
            " 0   Gender = Female                    2000 non-null   float64\n",
            " 1   Gender = Male                      2000 non-null   float64\n",
            " 2   Customer Type = Loyal Customer     2000 non-null   float64\n",
            " 3   Customer Type = disloyal Customer  2000 non-null   float64\n",
            " 4   Type of Travel = Business travel   2000 non-null   float64\n",
            " 5   Type of Travel = Personal Travel   2000 non-null   float64\n",
            " 6   Class = Eco                        2000 non-null   float64\n",
            " 7   Class = Business                   2000 non-null   float64\n",
            " 8   Class = Eco Plus                   2000 non-null   float64\n",
            " 9   Age                                2000 non-null   float64\n",
            " 10  Flight Distance                    2000 non-null   float64\n",
            " 11  Inflight wifi service              2000 non-null   float64\n",
            " 12  Departure/Arrival time convenient  2000 non-null   float64\n",
            " 13  Ease of Online booking             2000 non-null   float64\n",
            " 14  Gate location                      2000 non-null   float64\n",
            " 15  Food and drink                     2000 non-null   float64\n",
            " 16  Online boarding                    2000 non-null   float64\n",
            " 17  Seat comfort                       2000 non-null   float64\n",
            " 18  Inflight entertainment             2000 non-null   float64\n",
            " 19  On-board service                   2000 non-null   float64\n",
            " 20  Leg room service                   2000 non-null   float64\n",
            " 21  Baggage handling                   2000 non-null   float64\n",
            " 22  Checkin service                    2000 non-null   float64\n",
            " 23  Inflight service                   2000 non-null   float64\n",
            " 24  Cleanliness                        2000 non-null   float64\n",
            " 25  Departure Delay in Minutes         2000 non-null   float64\n",
            " 26  Arrival Delay in Minutes           2000 non-null   float64\n",
            " 27  satisfaction                       2000 non-null   object \n",
            "dtypes: float64(27), object(1)\n",
            "memory usage: 437.6+ KB\n",
            "None\n"
          ]
        }
      ]
    },
    {
      "cell_type": "markdown",
      "metadata": {
        "id": "_cNRlezFl4T-"
      },
      "source": [
        "จะเห็นได้ว่าในคอลัม satisfaction เป็น object อยู่ ซึ่งในการทำ Model ค่าจำเป็นต้องเป็นตัวเลข ดังนั้นจึงทำการแปลงข้อมูลในคอลัมน์ satisfaction ให้เป็นตัวเลข โดยใช้คำสั่ง replace แปลงแถวที่มีค่าเป็น satisfied แปลงเป็น 0 และแปลงแถวที่มีค่าเป็น neutral or dissatisfied แปลงเป็น 1"
      ]
    },
    {
      "cell_type": "code",
      "metadata": {
        "id": "J1_h463hjREH"
      },
      "source": [
        "train['satisfaction'].replace({'satisfied':0, 'neutral or dissatisfied':1}, inplace = True)\n",
        "test['satisfaction'].replace({'satisfied':0, 'neutral or dissatisfied':1}, inplace = True)"
      ],
      "execution_count": null,
      "outputs": []
    },
    {
      "cell_type": "markdown",
      "metadata": {
        "id": "2huH0RISmb01"
      },
      "source": [
        "หลังจากแปลงแล้ว ทำการตรวจสอบอีกรอบว่าคอลัมน์ satisfaction ได้แปลงเป็นตัวเลขแล้วหรือยัง"
      ]
    },
    {
      "cell_type": "code",
      "metadata": {
        "colab": {
          "base_uri": "https://localhost:8080/"
        },
        "id": "Ydr5s6FngWtT",
        "outputId": "af201662-2535-40c4-925e-456c3fe4126e"
      },
      "source": [
        "print(train.info())\n",
        "print()\n",
        "print(test.info())"
      ],
      "execution_count": null,
      "outputs": [
        {
          "output_type": "stream",
          "name": "stdout",
          "text": [
            "<class 'pandas.core.frame.DataFrame'>\n",
            "RangeIndex: 8000 entries, 0 to 7999\n",
            "Data columns (total 28 columns):\n",
            " #   Column                             Non-Null Count  Dtype  \n",
            "---  ------                             --------------  -----  \n",
            " 0   Gender = Female                    8000 non-null   float64\n",
            " 1   Gender = Male                      8000 non-null   float64\n",
            " 2   Customer Type = Loyal Customer     8000 non-null   float64\n",
            " 3   Customer Type = disloyal Customer  8000 non-null   float64\n",
            " 4   Type of Travel = Business travel   8000 non-null   float64\n",
            " 5   Type of Travel = Personal Travel   8000 non-null   float64\n",
            " 6   Class = Eco                        8000 non-null   float64\n",
            " 7   Class = Business                   8000 non-null   float64\n",
            " 8   Class = Eco Plus                   8000 non-null   float64\n",
            " 9   Age                                8000 non-null   float64\n",
            " 10  Flight Distance                    8000 non-null   float64\n",
            " 11  Inflight wifi service              8000 non-null   float64\n",
            " 12  Departure/Arrival time convenient  8000 non-null   float64\n",
            " 13  Ease of Online booking             8000 non-null   float64\n",
            " 14  Gate location                      8000 non-null   float64\n",
            " 15  Food and drink                     8000 non-null   float64\n",
            " 16  Online boarding                    8000 non-null   float64\n",
            " 17  Seat comfort                       8000 non-null   float64\n",
            " 18  Inflight entertainment             8000 non-null   float64\n",
            " 19  On-board service                   8000 non-null   float64\n",
            " 20  Leg room service                   8000 non-null   float64\n",
            " 21  Baggage handling                   8000 non-null   float64\n",
            " 22  Checkin service                    8000 non-null   float64\n",
            " 23  Inflight service                   8000 non-null   float64\n",
            " 24  Cleanliness                        8000 non-null   float64\n",
            " 25  Departure Delay in Minutes         8000 non-null   float64\n",
            " 26  Arrival Delay in Minutes           8000 non-null   float64\n",
            " 27  satisfaction                       8000 non-null   int64  \n",
            "dtypes: float64(27), int64(1)\n",
            "memory usage: 1.7 MB\n",
            "None\n",
            "\n",
            "<class 'pandas.core.frame.DataFrame'>\n",
            "RangeIndex: 2000 entries, 0 to 1999\n",
            "Data columns (total 28 columns):\n",
            " #   Column                             Non-Null Count  Dtype  \n",
            "---  ------                             --------------  -----  \n",
            " 0   Gender = Female                    2000 non-null   float64\n",
            " 1   Gender = Male                      2000 non-null   float64\n",
            " 2   Customer Type = Loyal Customer     2000 non-null   float64\n",
            " 3   Customer Type = disloyal Customer  2000 non-null   float64\n",
            " 4   Type of Travel = Business travel   2000 non-null   float64\n",
            " 5   Type of Travel = Personal Travel   2000 non-null   float64\n",
            " 6   Class = Eco                        2000 non-null   float64\n",
            " 7   Class = Business                   2000 non-null   float64\n",
            " 8   Class = Eco Plus                   2000 non-null   float64\n",
            " 9   Age                                2000 non-null   float64\n",
            " 10  Flight Distance                    2000 non-null   float64\n",
            " 11  Inflight wifi service              2000 non-null   float64\n",
            " 12  Departure/Arrival time convenient  2000 non-null   float64\n",
            " 13  Ease of Online booking             2000 non-null   float64\n",
            " 14  Gate location                      2000 non-null   float64\n",
            " 15  Food and drink                     2000 non-null   float64\n",
            " 16  Online boarding                    2000 non-null   float64\n",
            " 17  Seat comfort                       2000 non-null   float64\n",
            " 18  Inflight entertainment             2000 non-null   float64\n",
            " 19  On-board service                   2000 non-null   float64\n",
            " 20  Leg room service                   2000 non-null   float64\n",
            " 21  Baggage handling                   2000 non-null   float64\n",
            " 22  Checkin service                    2000 non-null   float64\n",
            " 23  Inflight service                   2000 non-null   float64\n",
            " 24  Cleanliness                        2000 non-null   float64\n",
            " 25  Departure Delay in Minutes         2000 non-null   float64\n",
            " 26  Arrival Delay in Minutes           2000 non-null   float64\n",
            " 27  satisfaction                       2000 non-null   int64  \n",
            "dtypes: float64(27), int64(1)\n",
            "memory usage: 437.6 KB\n",
            "None\n"
          ]
        }
      ]
    },
    {
      "cell_type": "markdown",
      "metadata": {
        "id": "jUQliAtOmll-"
      },
      "source": [
        "จะเห็นได้ว่า คอลัมน์ satisfaction ได้แปลงเป็นตัวเลขหมดแล้ว"
      ]
    },
    {
      "cell_type": "markdown",
      "metadata": {
        "id": "xar2ELSImqmd"
      },
      "source": [
        "ทำการ print ดูข้อมูลว่ามีกี่มิติ มี shape ยังไง และมีจำนวนข้อมูลทั้งหมดเท่าไหร่"
      ]
    },
    {
      "cell_type": "code",
      "metadata": {
        "colab": {
          "base_uri": "https://localhost:8080/"
        },
        "id": "o5-JNZVYgXPL",
        "outputId": "d4987ded-a5c7-4f95-88a1-6c93df81aef9"
      },
      "source": [
        "print(\"train ndim: \", train.ndim)\n",
        "print(\"train shape:\", train.shape)\n",
        "print(\"train size: \", train.size)\n",
        "print()\n",
        "print(\"test ndim: \", test.ndim)\n",
        "print(\"test shape:\", test.shape)\n",
        "print(\"test size: \", test.size)"
      ],
      "execution_count": null,
      "outputs": [
        {
          "output_type": "stream",
          "name": "stdout",
          "text": [
            "train ndim:  2\n",
            "train shape: (8000, 28)\n",
            "train size:  224000\n",
            "\n",
            "test ndim:  2\n",
            "test shape: (2000, 28)\n",
            "test size:  56000\n"
          ]
        }
      ]
    },
    {
      "cell_type": "markdown",
      "metadata": {
        "id": "w5eDnMpfm0u1"
      },
      "source": [
        "ลักษณะในชุดข้อมูล 10,000 แถว มีดังนี้\n",
        "\n",
        "*   เป็น array 2 มิติ\n",
        "*   มีแถว 10,000 แถว\n",
        "*   มีคอลัมน์ 28 คอลัมน์\n",
        "*   มีข้อมูลทั้งหมด 280,000 ข้อมูล\n",
        "\n",
        "ลักษณะในชุดข้อมูล train มีดังนี้\n",
        "\n",
        "*   เป็น array 2 มิติ\n",
        "*   มีแถว 8,000 แถว\n",
        "*   มีคอลัมน์ 28 คอลัมน์\n",
        "*   มีข้อมูลทั้งหมด 224,000 ข้อมูล\n",
        "\n",
        "ลักษณะในชุดข้อมูล test มีดังนี้\n",
        "\n",
        "*   เป็น array 2 มิติ\n",
        "*   มีแถว 2,000 แถว\n",
        "*   มีคอลัมน์ 28 คอลัมน์\n",
        "*   มีข้อมูลทั้งหมด 56,000 ข้อมูล"
      ]
    },
    {
      "cell_type": "markdown",
      "metadata": {
        "id": "8ubVtwnQiBuR"
      },
      "source": [
        "# ขั้นตอนการเตรียมข้อมูล"
      ]
    },
    {
      "cell_type": "markdown",
      "metadata": {
        "id": "mYUAaU1snqZO"
      },
      "source": [
        "ต่อมาจะทำการเตรียมข้อมูลเพื่อนำไปใช้ในการทำ Model โดยจะสร้างเป็นข้อมูล data_train กับ data_test ในการทำ cross validation เพื่อหา Model ที่มีประสิทธิภาพดีที่สุด และสร้างชุดข้อมูล X_train กับ Y_train ในการให้ Model ที่ดีที่สุด ได้ฝึกฝนผ่าน X_train และดูเฉลยผ่าน Y_train และสร้างชุดข้อมูล X_test กับ Y_test ไว้ให้ Model ได้ทายข้อมูลใน X_test และใช้ Y_test เป็นเฉลย เพื่อดูประสิทธิภาพอีกที"
      ]
    },
    {
      "cell_type": "code",
      "metadata": {
        "id": "ay2jFKneiEah"
      },
      "source": [
        "X_train = train.iloc[:, 0:26].values\n",
        "Y_train = train.iloc[:, 27].values\n",
        "\n",
        "X_test = test.iloc[:, 0:26].values\n",
        "Y_test = test.iloc[:, 27].values"
      ],
      "execution_count": null,
      "outputs": []
    },
    {
      "cell_type": "markdown",
      "metadata": {
        "id": "ExfgNRzxFPeI"
      },
      "source": [
        "# ขั้นตอนการเลือก model"
      ]
    },
    {
      "cell_type": "markdown",
      "metadata": {
        "id": "ff-uswsGoTpt"
      },
      "source": [
        "ทำการ import Model ที่จะใช้ โดย Model ที่นิยมใช้มีดังนี้\n",
        "\n",
        "*   1.KNN (k-nearest neighbors) หรือใน python จะใช้ชื่อว่า KNeighborsClassifier\n",
        "*   2.SVM (Support vector machines) หรือใน python จะใช้ชื่อว่า SVC\n",
        "*   3.Neural Network หรือใน python จะใช้ชื่อว่า MLPClassifier"
      ]
    },
    {
      "cell_type": "code",
      "metadata": {
        "id": "-ga752r9nNwJ"
      },
      "source": [
        "from sklearn.neighbors import KNeighborsClassifier\n",
        "from sklearn.svm import SVC\n",
        "from sklearn.neural_network import MLPClassifier"
      ],
      "execution_count": null,
      "outputs": []
    },
    {
      "cell_type": "markdown",
      "metadata": {
        "id": "bB1JQ5jaoxn1"
      },
      "source": [
        "ทำการ import pyplot เพื่อนำมา plot เป็นกราฟ"
      ]
    },
    {
      "cell_type": "code",
      "metadata": {
        "id": "88u7QjThnCkn"
      },
      "source": [
        "import matplotlib.pyplot as plt"
      ],
      "execution_count": null,
      "outputs": []
    },
    {
      "cell_type": "markdown",
      "metadata": {
        "id": "SgNGQ3aao3n9"
      },
      "source": [
        "ก่อนที่จะทำ cross validation ของแต่ละ model\n",
        "\n",
        "model ที่จำเป็นต้องหาค่าต่าง ๆ มา set ก่อนนั้นจะมี model KNN และ Neural Network โดยจะเริ่มกันที่ KNN ก่อน"
      ]
    },
    {
      "cell_type": "markdown",
      "metadata": {
        "id": "f9dO0DiHpKFm"
      },
      "source": [
        "โดย KNN นั้นจำเป็นต้องมีค่า k ในการทำ ซึ่งวิธีการหาที่จะทำคือการหาค่า Error Rate ของค่า k แต่ละค่า ในที่นี้จะทำการวนลูปค่า k ตั้งแต่ 1 จนถึง 50 แล้วนำมา plot graph หากที่ k ไหนมีค่า Error Rate น้อยที่สุด ค่านั้นจะเป็นค่าที่จะนำมาใช้ในการทำ Model ต่อไป"
      ]
    },
    {
      "cell_type": "code",
      "metadata": {
        "colab": {
          "base_uri": "https://localhost:8080/",
          "height": 422
        },
        "id": "hY3GCSS-1lQJ",
        "outputId": "90dae0ee-2637-4cca-cdd1-0bf2ae5aa504"
      },
      "source": [
        "error = []\n",
        "\n",
        "for i in range(1, 51):\n",
        "    knn = KNeighborsClassifier(n_neighbors=i)\n",
        "    knn.fit(X_train, Y_train)\n",
        "    pred_i = knn.predict(X_test)\n",
        "    error.append(np.mean(pred_i != Y_test))\n",
        "    \n",
        "plt.figure(figsize=(12, 6))\n",
        "plt.plot(range(1, 51), error, color='red', linestyle='dashed', marker='o',\n",
        "         markerfacecolor='blue', markersize=10)\n",
        "plt.title('Error Rate K Value')\n",
        "plt.xlabel('K Value')\n",
        "plt.ylabel('Mean Error')"
      ],
      "execution_count": null,
      "outputs": [
        {
          "output_type": "execute_result",
          "data": {
            "text/plain": [
              "Text(0, 0.5, 'Mean Error')"
            ]
          },
          "metadata": {},
          "execution_count": 10
        },
        {
          "output_type": "display_data",
          "data": {
            "image/png": "[encoded data removed]",
            "text/plain": [
              "<Figure size 864x432 with 1 Axes>"
            ]
          },
          "metadata": {
            "needs_background": "light"
          }
        }
      ]
    },
    {
      "cell_type": "markdown",
      "metadata": {
        "id": "OXjBjZXQqIHN"
      },
      "source": [
        "หลังจาก plot graph มาแล้ว จะเห็นว่ามีอยู่ 2 ตำแหน่งที่อาจมีค่าต่ำที่สุดอยู่ แต่มองเห็นไม่ชัดจึงทำการวนลูปหาค่า Error Rate ที่น้อยที่สุด"
      ]
    },
    {
      "cell_type": "markdown",
      "metadata": {
        "id": "Hiybr00Xqcol"
      },
      "source": [
        "ทำการ import sys เพื่อนำมาใช้ฟังก์ชัน maxsize (ค่าที่มากที่สุดที่เป็นไปได้)"
      ]
    },
    {
      "cell_type": "code",
      "metadata": {
        "id": "c-9fL4Cbm9nX"
      },
      "source": [
        "import sys"
      ],
      "execution_count": null,
      "outputs": []
    },
    {
      "cell_type": "code",
      "metadata": {
        "colab": {
          "base_uri": "https://localhost:8080/"
        },
        "id": "6k-xzAJY7F2M",
        "outputId": "a6b5d5fd-f5c5-489b-b2f6-9a3f486fbf98"
      },
      "source": [
        "max = sys.maxsize\n",
        "number_of_kmeans = []\n",
        "for i in range(50):\n",
        "  if max > error[i]:\n",
        "    max = error[i]\n",
        "for i in range(50):\n",
        "  if error[i] == max:\n",
        "    number_of_kmeans.append(i+1)\n",
        "    print(\"KNN at\", i+1, \"have lowest error rate\")"
      ],
      "execution_count": null,
      "outputs": [
        {
          "output_type": "stream",
          "name": "stdout",
          "text": [
            "KNN at 6 have lowest error rate\n",
            "KNN at 10 have lowest error rate\n"
          ]
        }
      ]
    },
    {
      "cell_type": "markdown",
      "metadata": {
        "id": "kOE-2ugsqrSO"
      },
      "source": [
        "หลังจากวนลูปหาค่าที่น้อยที่สุด ซึ่งพบว่า ค่าที่น้อยที่สุดนั้นมีสองค่า จึงใช้ทั้งสองค่าเป็นค่า K นั้นคือ 6 และ 10"
      ]
    },
    {
      "cell_type": "markdown",
      "metadata": {
        "id": "fS9shTTMryf1"
      },
      "source": [
        "หลังจากทราบค่า k ของ KNN ต่อมาจะหาค่าสำหรับ Neural Network \n",
        "\n",
        "Neural Network นั้น มีค่าที่กำหนดได้นั้นคือ learning rate, จำนวนรอบ, และ hidden layers โดย ผู้จัดทำ ได้เลือกดังนี้\n",
        "\n",
        "*   learning rate เป็น 0.01\n",
        "*   จำนวนรอบ เป็น 200\n",
        "*   hidden layers เป็น 2 ชั้น โดยชั้นแรกมีขนาด 15 และชั้นที่สองมีขนาด 9\n",
        "\n",
        "แต่ Model Neural Network ที่ import มา ไม่สามารถกำหนด learning rate ได้ ดังนั้นจึงใช้แค่ จำนวนรอบ กับ hidden layers เท่านั้น"
      ]
    },
    {
      "cell_type": "markdown",
      "metadata": {
        "id": "JEff1879ruNs"
      },
      "source": [
        "สร้าง models ที่เป็น list มาเพื่อเก็บ model ต่าง ๆ"
      ]
    },
    {
      "cell_type": "code",
      "metadata": {
        "id": "Lzb008XZjHpx"
      },
      "source": [
        "models = []"
      ],
      "execution_count": null,
      "outputs": []
    },
    {
      "cell_type": "markdown",
      "metadata": {
        "id": "B4A7hBjzuQgF"
      },
      "source": [
        "ทำการเพิ่ม Model KNN ที่มีค่า k ตามที่ได้หามา เพิ่มเข้าไปใน list ของ models"
      ]
    },
    {
      "cell_type": "code",
      "metadata": {
        "id": "_OnPBn-rjkyY"
      },
      "source": [
        "for i in number_of_kmeans:\n",
        "  name = 'KNN at ' + str(i)\n",
        "  models.append((name, KNeighborsClassifier(i)))"
      ],
      "execution_count": null,
      "outputs": []
    },
    {
      "cell_type": "markdown",
      "metadata": {
        "id": "-RfgrCJ7ufq2"
      },
      "source": [
        "ทำการเพิ่ม Model SVM เพิ่มเข้าไปใน list ของ models"
      ]
    },
    {
      "cell_type": "code",
      "metadata": {
        "id": "zl5IDDVmjdbE"
      },
      "source": [
        "models.append(('SVM', SVC(kernel='linear')))"
      ],
      "execution_count": null,
      "outputs": []
    },
    {
      "cell_type": "markdown",
      "metadata": {
        "id": "y3WFK1zLuhE0"
      },
      "source": [
        "ทำการเพิ่ม Model Neural Network ที่มี จำนวนรอบเท่ากับ 200 และ hiddne layers เป็น (15, 9) ตามที่ได้กำหนดไว้ เพิ่มเข้าไปใน list ของ models"
      ]
    },
    {
      "cell_type": "code",
      "metadata": {
        "id": "4skHDtHljeuf"
      },
      "source": [
        "models.append(('Neural Network', MLPClassifier(solver='lbfgs', max_iter = 200, hidden_layer_sizes=(15, 9), random_state=1)))"
      ],
      "execution_count": null,
      "outputs": []
    },
    {
      "cell_type": "markdown",
      "metadata": {
        "id": "5TaI_3ktvM1n"
      },
      "source": [
        "ทำการ import cross_val_score เพื่อคำนวณประสิทธิภาพ"
      ]
    },
    {
      "cell_type": "code",
      "metadata": {
        "id": "XzUHwlKfnP6_"
      },
      "source": [
        "from sklearn.model_selection import cross_val_score"
      ],
      "execution_count": null,
      "outputs": []
    },
    {
      "cell_type": "code",
      "metadata": {
        "colab": {
          "base_uri": "https://localhost:8080/"
        },
        "id": "nkO1c3U-jmS4",
        "outputId": "cdb3979c-94da-45df-82f8-cadf45ed0e32"
      },
      "source": [
        "results = []\n",
        "names = []\n",
        "for name, model in models:\n",
        "  cv_results = cross_val_score(model, X_train, Y_train, cv=10, scoring='accuracy')\n",
        "  results.append(cv_results)\n",
        "  names.append(name)\n",
        "  print('%s: %f (%f)' % (name, cv_results.mean(), cv_results.std()))"
      ],
      "execution_count": null,
      "outputs": [
        {
          "output_type": "stream",
          "name": "stdout",
          "text": [
            "KNN at 6: 0.909000 (0.005750)\n",
            "KNN at 10: 0.906000 (0.008888)\n",
            "SVM: 0.869500 (0.010265)\n",
            "Neural Network: 0.937875 (0.007204)\n"
          ]
        }
      ]
    },
    {
      "cell_type": "markdown",
      "metadata": {
        "id": "wlTINBt0vXxs"
      },
      "source": [
        "ผลลัพธ์คือ Model Neural Network มีประสิทธิภาพมากที่สุด ดังนั้นจึงเลือกใช้ Model Neural Network ไปทำ Model"
      ]
    },
    {
      "cell_type": "markdown",
      "metadata": {
        "id": "zLCFoP49120K"
      },
      "source": [
        "ลองทำ box plot เพื่อเทียบประสิทธิภาพของแต่ละ Model"
      ]
    },
    {
      "cell_type": "code",
      "metadata": {
        "colab": {
          "base_uri": "https://localhost:8080/",
          "height": 607
        },
        "id": "IH8qSBOClIHS",
        "outputId": "3782e9a7-8aa6-4bd4-9dc1-735d32c8f4ee"
      },
      "source": [
        "plt.figure(figsize=(10, 10))\n",
        "plt.boxplot(results, labels=names)\n",
        "plt.title('Algorithm Comparison');"
      ],
      "execution_count": null,
      "outputs": [
        {
          "output_type": "display_data",
          "data": {
            "image/png": "[encoded data removed]",
            "text/plain": [
              "<Figure size 720x720 with 1 Axes>"
            ]
          },
          "metadata": {
            "needs_background": "light"
          }
        }
      ]
    },
    {
      "cell_type": "markdown",
      "metadata": {
        "id": "znFjZSs4mMip"
      },
      "source": [
        "# ขั้นตอนการจำแนกข้อมูล"
      ]
    },
    {
      "cell_type": "markdown",
      "metadata": {
        "id": "uhOAf6Hd2DjS"
      },
      "source": [
        "หลังจากทราบว่า Model Neural Network มีประสิทธิภาพมากที่สุด จึงนำมา ฝึกฝนกับข้อมูล X_train และ Y_train (มาจากชุดข้อมูล train) ฝึกฝนเสร็จก็ให้ model คาดเดา X_test (มาจากชุดข้อมูล test) โดยนำผลลัพธ์ที่ได้ไปเก็บในตัวแปร Y_pred"
      ]
    },
    {
      "cell_type": "code",
      "metadata": {
        "colab": {
          "base_uri": "https://localhost:8080/"
        },
        "id": "7G5HgOELc_Ne",
        "outputId": "f8dd5e40-b93a-4b03-b073-a3cf0c3adbfc"
      },
      "source": [
        "model = MLPClassifier(solver='lbfgs', hidden_layer_sizes=(15, 9), max_iter = 200, random_state=1)\n",
        "model.fit(X_train, Y_train)\n",
        "Y_pred = model.predict(X_test)\n",
        "print(Y_pred)"
      ],
      "execution_count": null,
      "outputs": [
        {
          "output_type": "stream",
          "name": "stdout",
          "text": [
            "[1 1 0 ... 1 0 1]\n"
          ]
        }
      ]
    },
    {
      "cell_type": "markdown",
      "metadata": {
        "id": "99OMv3G742N8"
      },
      "source": [
        "ทำการ import accuracy_score, classification_report และ confusion_matrix มาเพื่อตรวจสอบประสิทธิภาพของ Model ว่าทายเป็นอย่างไรบ้าง"
      ]
    },
    {
      "cell_type": "code",
      "metadata": {
        "id": "Ae7RSf1XmyDg"
      },
      "source": [
        "from sklearn.metrics import accuracy_score\n",
        "from sklearn.metrics import classification_report\n",
        "from sklearn.metrics import confusion_matrix"
      ],
      "execution_count": null,
      "outputs": []
    },
    {
      "cell_type": "code",
      "metadata": {
        "colab": {
          "base_uri": "https://localhost:8080/"
        },
        "id": "JjnjXMSXmyaA",
        "outputId": "9df59957-3e0d-485f-f7a3-5ae5bac2c94d"
      },
      "source": [
        "print('Accuracy Score: ',accuracy_score(Y_test, Y_pred))\n",
        "print()\n",
        "print('Confusion Matrix')\n",
        "print(confusion_matrix(Y_test, Y_pred))\n",
        "print()\n",
        "print('Classification Report')\n",
        "print(classification_report(Y_test, Y_pred))"
      ],
      "execution_count": null,
      "outputs": [
        {
          "output_type": "stream",
          "name": "stdout",
          "text": [
            "Accuracy Score:  0.939\n",
            "\n",
            "Confusion Matrix\n",
            "[[ 836   68]\n",
            " [  54 1042]]\n",
            "\n",
            "Classification Report\n",
            "              precision    recall  f1-score   support\n",
            "\n",
            "           0       0.94      0.92      0.93       904\n",
            "           1       0.94      0.95      0.94      1096\n",
            "\n",
            "    accuracy                           0.94      2000\n",
            "   macro avg       0.94      0.94      0.94      2000\n",
            "weighted avg       0.94      0.94      0.94      2000\n",
            "\n"
          ]
        }
      ]
    },
    {
      "cell_type": "markdown",
      "metadata": {
        "id": "xydlOOIxedq9"
      },
      "source": [
        "นำผลที่ Model ทำนายไว้ หรือตัวแปร Y_pred มาทำการหาประสิทธิภาพ โดยดูเฉลยจาก Y_test จะเห็นได้ว่า จาก 2,000 ข้อมูล Model สามารถทำนายถูกได้ถึง 1,878 ข้อมูล หรือมีความแม่นยำอยู่ที่ 0.94 ซึ่งจากผลลัพธ์ประสิทธิภาพที่ทำตอน Cross Validation ที่มีค่าประสิทธิภาพอยู่ที่ 0.93 ทำให้สรุปได้ว่า Model Neural Network ที่ได้ฝึกฝนมานั้น มีประสิทธิภาพที่ยอดเยี่ยม สามารถทำนายข้อมูลให้มีประสิทธิภาพมากกว่าตอนทำ Cross Validation ได้"
      ]
    },
    {
      "cell_type": "markdown",
      "metadata": {
        "id": "2OeD8bODnzT2"
      },
      "source": [
        "# รายชื่อผู้จัดทำ"
      ]
    },
    {
      "cell_type": "markdown",
      "metadata": {
        "id": "F0TPtHBJn20-"
      },
      "source": [
        "นายภีมภัช พจน์สุนทร รหัสนักศึกษา 6209650081"
      ]
    }
  ]
}